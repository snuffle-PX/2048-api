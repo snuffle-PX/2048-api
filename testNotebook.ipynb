{
 "cells": [
  {
   "cell_type": "code",
   "execution_count": 1,
   "metadata": {
    "collapsed": true
   },
   "outputs": [],
   "source": [
    "import numpy as np\n",
    "import torch\n",
    "import torch.nn\n",
    "from utils import try_to_move, get_train_data, ReplayMemory, Transition, conv_to_onehot, flatten_onehot\n",
    "\n",
    "board = np.array([[0,2,4,8], [0,0,0,0], [0,2,4,8], [0,0,0,0]])\n",
    "direction = 1\n",
    "boards, directions = get_train_data(board, direction)\n",
    "mm = ReplayMemory(6)"
   ]
  },
  {
   "cell_type": "code",
   "execution_count": 1,
   "metadata": {},
   "outputs": [
    {
     "name": "stdout",
     "output_type": "stream",
     "text": [
      "Loaded expectmax lib for 2048: C:\\Users\\赵阳桁\\Documents\\GitHub\\2048-api\\game2048\\expectimax\\bin/2048.so\nLoaded expectmax lib for 2048: C:\\Users\\赵阳桁\\Documents\\GitHub\\2048-api\\game2048\\expectimax\\bin/2048.dll\nLoaded expectmax lib for 2048: C:\\Users\\赵阳桁\\Documents\\GitHub\\2048-api\\game2048\\expectimax\\bin/2048.dylib\nCouldn't find 2048 library bin/2048.{so,dll,dylib}! Make sure to build it first.\n"
     ]
    },
    {
     "ename": "NameError",
     "evalue": "name 'ailib' is not defined",
     "traceback": [
      "\u001b[1;31m---------------------------------------------------------------------------\u001b[0m",
      "\u001b[1;31mNameError\u001b[0m                                 Traceback (most recent call last)",
      "\u001b[1;32m<ipython-input-1-77f2f3f0edf6>\u001b[0m in \u001b[0;36m<module>\u001b[1;34m\u001b[0m\n\u001b[0;32m      1\u001b[0m \u001b[1;32mfrom\u001b[0m \u001b[0mgame2048\u001b[0m\u001b[1;33m.\u001b[0m\u001b[0mgame\u001b[0m \u001b[1;32mimport\u001b[0m \u001b[0mGame\u001b[0m\u001b[1;33m\u001b[0m\u001b[0m\n\u001b[1;32m----> 2\u001b[1;33m \u001b[1;32mfrom\u001b[0m \u001b[0mgame2048\u001b[0m\u001b[1;33m.\u001b[0m\u001b[0mmy_agents\u001b[0m \u001b[1;32mimport\u001b[0m \u001b[0mTrainAgent\u001b[0m\u001b[1;33m\u001b[0m\u001b[0m\n\u001b[0m\u001b[0;32m      3\u001b[0m \u001b[1;32mfrom\u001b[0m \u001b[0mgame2048\u001b[0m\u001b[1;33m.\u001b[0m\u001b[0mHierarchicalAgent\u001b[0m \u001b[1;32mimport\u001b[0m \u001b[0mHierarchicalAgent\u001b[0m\u001b[1;33m\u001b[0m\u001b[0m\n\u001b[0;32m      4\u001b[0m \u001b[1;32mfrom\u001b[0m \u001b[0mgame2048\u001b[0m\u001b[1;33m.\u001b[0m\u001b[0mdisplays\u001b[0m \u001b[1;32mimport\u001b[0m \u001b[0mDisplay\u001b[0m\u001b[1;33m\u001b[0m\u001b[0m\n\u001b[0;32m      5\u001b[0m \u001b[1;32mimport\u001b[0m \u001b[0mtorch\u001b[0m\u001b[1;33m\u001b[0m\u001b[0m\n",
      "\u001b[1;32m~\\Documents\\GitHub\\2048-api\\game2048\\my_agents.py\u001b[0m in \u001b[0;36m<module>\u001b[1;34m\u001b[0m\n\u001b[0;32m      7\u001b[0m \u001b[1;32mimport\u001b[0m \u001b[0mtorch\u001b[0m\u001b[1;33m.\u001b[0m\u001b[0moptim\u001b[0m\u001b[1;33m\u001b[0m\u001b[0m\n\u001b[0;32m      8\u001b[0m \u001b[1;32mfrom\u001b[0m \u001b[0mmodel\u001b[0m \u001b[1;32mimport\u001b[0m \u001b[0mnn2048\u001b[0m\u001b[1;33m,\u001b[0m \u001b[0mnn2048_2\u001b[0m\u001b[1;33m,\u001b[0m \u001b[0mnn2048_3\u001b[0m\u001b[1;33m\u001b[0m\u001b[0m\n\u001b[1;32m----> 9\u001b[1;33m \u001b[1;32mfrom\u001b[0m \u001b[1;33m.\u001b[0m\u001b[0mexpectimax\u001b[0m \u001b[1;32mimport\u001b[0m \u001b[0mboard_to_move\u001b[0m\u001b[1;33m\u001b[0m\u001b[0m\n\u001b[0m\u001b[0;32m     10\u001b[0m \u001b[1;33m\u001b[0m\u001b[0m\n\u001b[0;32m     11\u001b[0m \u001b[1;33m\u001b[0m\u001b[0m\n",
      "\u001b[1;32m~\\Documents\\GitHub\\2048-api\\game2048\\expectimax\\__init__.py\u001b[0m in \u001b[0;36m<module>\u001b[1;34m\u001b[0m\n\u001b[1;32m----> 1\u001b[1;33m \u001b[1;32mfrom\u001b[0m \u001b[1;33m.\u001b[0m\u001b[0m_ext\u001b[0m \u001b[1;32mimport\u001b[0m \u001b[0mm_to_move\u001b[0m\u001b[1;33m,\u001b[0m \u001b[0mboard_to_move\u001b[0m\u001b[1;33m,\u001b[0m \u001b[0mfind_best_move\u001b[0m\u001b[1;33m\u001b[0m\u001b[0m\n\u001b[0m",
      "\u001b[1;32m~\\Documents\\GitHub\\2048-api\\game2048\\expectimax\\_ext.py\u001b[0m in \u001b[0;36m<module>\u001b[1;34m\u001b[0m\n\u001b[0;32m     26\u001b[0m     \u001b[1;31m# exit()\u001b[0m\u001b[1;33m\u001b[0m\u001b[1;33m\u001b[0m\u001b[0m\n\u001b[0;32m     27\u001b[0m \u001b[1;33m\u001b[0m\u001b[0m\n\u001b[1;32m---> 28\u001b[1;33m \u001b[0mailib\u001b[0m\u001b[1;33m.\u001b[0m\u001b[0minit_tables\u001b[0m\u001b[1;33m(\u001b[0m\u001b[1;33m)\u001b[0m\u001b[1;33m\u001b[0m\u001b[0m\n\u001b[0m\u001b[0;32m     29\u001b[0m \u001b[1;33m\u001b[0m\u001b[0m\n\u001b[0;32m     30\u001b[0m \u001b[0mailib\u001b[0m\u001b[1;33m.\u001b[0m\u001b[0mfind_best_move\u001b[0m\u001b[1;33m.\u001b[0m\u001b[0margtypes\u001b[0m \u001b[1;33m=\u001b[0m \u001b[1;33m[\u001b[0m\u001b[0mctypes\u001b[0m\u001b[1;33m.\u001b[0m\u001b[0mc_uint64\u001b[0m\u001b[1;33m]\u001b[0m\u001b[1;33m\u001b[0m\u001b[0m\n",
      "\u001b[1;31mNameError\u001b[0m: name 'ailib' is not defined"
     ],
     "output_type": "error"
    }
   ],
   "source": [
    "from game2048.game import Game\n",
    "from game2048.my_agents import TrainAgent\n",
    "from game2048.HierarchicalAgent import HierarchicalAgent\n",
    "from game2048.displays import Display\n",
    "import torch\n",
    "\n",
    "GAME_SIZE = 4\n",
    "SCORE_TO_WIN = 4096\n",
    "N_TESTS = 10\n",
    "PATH = ('model3_dict0.pkl', 'model3_dict1.pkl')\n",
    "SAVE_PATH = ('model3_dict0.pkl', 'model3_dict1.pkl')\n",
    "\n",
    "game = Game(GAME_SIZE, SCORE_TO_WIN, random=False)\n",
    "agent = HierarchicalAgent(game, display=Display(), load_data=True, path=PATH)"
   ]
  },
  {
   "cell_type": "code",
   "execution_count": 4,
   "metadata": {},
   "outputs": [
    {
     "name": "stdout",
     "output_type": "stream",
     "text": [
      "1547296822.5371969\n"
     ]
    }
   ],
   "source": [
    "import time\n",
    "start = time.time()\n",
    "for i in range(100000):\n",
    "    pass\n",
    "end = time.time()\n",
    "print(str(end))"
   ]
  },
  {
   "cell_type": "code",
   "execution_count": null,
   "metadata": {
    "collapsed": false
   },
   "outputs": [],
   "source": [
    "mm.push6(boards, directions)\n",
    "transitions = mm.sample(6)\n",
    "batch = Transition(*zip(*transitions))\n",
    "print(batch.direction)\n",
    "board = torch.Tensor(batch.board)\n",
    "print(board.shape)"
   ]
  },
  {
   "cell_type": "code",
   "execution_count": null,
   "metadata": {},
   "outputs": [],
   "source": [
    "board = np.array([[0,2,4,8], [0,0,0,0], [0,2,4,8], [0,0,0,0]])\n",
    "\n",
    "train_data, train_targets = get_train_data(board, 1)\n",
    "for b, d in zip(train_data, train_targets):\n",
    "    bb = flatten_onehot(b)\n",
    "    _, score = try_to_move(bb, d)\n",
    "    print(_)\n"
   ]
  },
  {
   "cell_type": "code",
   "execution_count": null,
   "metadata": {},
   "outputs": [],
   "source": []
  }
 ],
 "metadata": {
  "kernelspec": {
   "display_name": "Python 2",
   "language": "python",
   "name": "python2"
  },
  "language_info": {
   "codemirror_mode": {
    "name": "ipython",
    "version": 2
   },
   "file_extension": ".py",
   "mimetype": "text/x-python",
   "name": "python",
   "nbconvert_exporter": "python",
   "pygments_lexer": "ipython2",
   "version": "2.7.6"
  }
 },
 "nbformat": 4,
 "nbformat_minor": 0
}
